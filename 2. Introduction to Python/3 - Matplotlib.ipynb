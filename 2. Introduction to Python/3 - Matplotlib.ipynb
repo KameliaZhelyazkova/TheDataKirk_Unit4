{
 "cells": [
  {
   "cell_type": "markdown",
   "metadata": {},
   "source": [
    "# 3 - Matplotlib \n",
    "\n",
    "Matploltib is a an example of what's known as a *library*. You can think of a library as a set of external tools \n",
    "\n",
    "https://matplotlib.org/gallery.html"
   ]
  }
 ],
 "metadata": {
  "kernelspec": {
   "display_name": "Python 3",
   "language": "python",
   "name": "python3"
  },
  "language_info": {
   "codemirror_mode": {
    "name": "ipython",
    "version": 3
   },
   "file_extension": ".py",
   "mimetype": "text/x-python",
   "name": "python",
   "nbconvert_exporter": "python",
   "pygments_lexer": "ipython3",
   "version": "3.7.4"
  }
 },
 "nbformat": 4,
 "nbformat_minor": 2
}
